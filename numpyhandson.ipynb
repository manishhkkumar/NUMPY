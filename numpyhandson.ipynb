{
 "cells": [
  {
   "cell_type": "markdown",
   "id": "78811794",
   "metadata": {},
   "source": [
    "# Numpy - numerical python "
   ]
  },
  {
   "cell_type": "code",
   "execution_count": 1,
   "id": "37ccd766",
   "metadata": {},
   "outputs": [],
   "source": [
    "import numpy as np "
   ]
  },
  {
   "cell_type": "code",
   "execution_count": 7,
   "id": "bd343ed3",
   "metadata": {},
   "outputs": [
    {
     "name": "stdout",
     "output_type": "stream",
     "text": [
      "[12 13]\n",
      "1\n"
     ]
    }
   ],
   "source": [
    "#1d array\n",
    "arr0 = np.array([12,13])\n",
    "print(arr0)\n",
    "print(arr0.ndim)"
   ]
  },
  {
   "cell_type": "code",
   "execution_count": 6,
   "id": "ff8435e2",
   "metadata": {},
   "outputs": [],
   "source": [
    "#0 dimension array or scaler array a single element arry would be 0 d array like np.arr0(12)"
   ]
  },
  {
   "cell_type": "code",
   "execution_count": 11,
   "id": "48c2a416",
   "metadata": {},
   "outputs": [
    {
     "name": "stdout",
     "output_type": "stream",
     "text": [
      "[[1 2 3]\n",
      " [4 5 6]]\n",
      "2\n",
      "(2, 3)\n"
     ]
    }
   ],
   "source": [
    "# 2_D array = multiple 1d array clubbed together \n",
    "arr2= np. array([[1,2,3],[4,5,6]])\n",
    "print(arr2)\n",
    "print(arr2.ndim)\n",
    "print(arr2.shape)"
   ]
  },
  {
   "cell_type": "code",
   "execution_count": 12,
   "id": "2348470a",
   "metadata": {},
   "outputs": [
    {
     "name": "stdout",
     "output_type": "stream",
     "text": [
      "[[[1 2 3]\n",
      "  [4 5 6]\n",
      "  [7 8 9]]]\n",
      "3\n",
      "(1, 3, 3)\n"
     ]
    }
   ],
   "source": [
    "# 3_D array = multiple 1d array clubbed together\n",
    "arr3= np. array([[[1,2,3],[4,5,6],[7,8,9]]])\n",
    "print(arr3)\n",
    "print(arr3.ndim) #for getting dimesion \n",
    "print(arr3.shape) #no of rows,coloum "
   ]
  },
  {
   "cell_type": "code",
   "execution_count": 17,
   "id": "b982ed99",
   "metadata": {},
   "outputs": [
    {
     "name": "stdout",
     "output_type": "stream",
     "text": [
      "[1 2 3]\n",
      "int32\n",
      "[1.  2.5 3.3]\n",
      "float64\n"
     ]
    }
   ],
   "source": [
    "#Create a numpy array with numpy.array module and with a data type integer and float.\n",
    "arrint = np.array([1,2,3])\n",
    "print(arrint)\n",
    "print(arrint.dtype)\n",
    "arrf = np.array([1.0,2.5,3.3])\n",
    "print(arrf)\n",
    "print(arrf.dtype)"
   ]
  },
  {
   "cell_type": "code",
   "execution_count": 19,
   "id": "702677bd",
   "metadata": {},
   "outputs": [
    {
     "name": "stdout",
     "output_type": "stream",
     "text": [
      "[1. 2. 3.]\n",
      "float64\n"
     ]
    }
   ],
   "source": [
    "#coverting dtype\n",
    "arrint = np.array([1,2,3], dtype= float)\n",
    "print(arrint)\n",
    "print(arrint.dtype)"
   ]
  },
  {
   "cell_type": "code",
   "execution_count": 20,
   "id": "e5a8337e",
   "metadata": {},
   "outputs": [
    {
     "name": "stdout",
     "output_type": "stream",
     "text": [
      "[12 13]\n",
      "1\n",
      "(2,)\n",
      "[[1 2 3]\n",
      " [4 5 6]]\n",
      "2\n",
      "(2, 3)\n",
      "[[[1 2 3]\n",
      "  [4 5 6]\n",
      "  [7 8 9]]]\n",
      "3\n",
      "(1, 3, 3)\n",
      "[[[[ 1  2  3]\n",
      "   [ 4  5  6]\n",
      "   [ 7  8  9]\n",
      "   [10 11 12]]]]\n",
      "4\n",
      "(1, 1, 4, 3)\n"
     ]
    }
   ],
   "source": [
    "#Create numpy arrays that have zero, one, two, three, Four dimensions respectively.\n",
    "#Also, print the shape and dimensions of the numpy arrays created above.\n",
    "\n",
    "#1d array\n",
    "arr1 = np.array([12,13])\n",
    "print(arr1)\n",
    "print(arr1.ndim)\n",
    "print(arr1.shape)\n",
    "\n",
    "# 2_D array \n",
    "arr2= np. array([[1,2,3],[4,5,6]])\n",
    "print(arr2)\n",
    "print(arr2.ndim)\n",
    "print(arr2.shape)\n",
    "\n",
    "# 3_D array \n",
    "arr3= np. array([[[1,2,3],[4,5,6],[7,8,9]]])\n",
    "print(arr3)\n",
    "print(arr3.ndim)  \n",
    "print(arr3.shape)\n",
    "\n",
    "# 4_D array \n",
    "arr4= np. array([[[[1,2,3],[4,5,6],[7,8,9],[10,11,12]]]])\n",
    "print(arr4)\n",
    "print(arr4.ndim)  \n",
    "print(arr4.shape)"
   ]
  },
  {
   "cell_type": "code",
   "execution_count": 22,
   "id": "45bc5e2c",
   "metadata": {},
   "outputs": [
    {
     "name": "stdout",
     "output_type": "stream",
     "text": [
      "[[1 1 3]\n",
      " [4 1 6]]\n",
      "2\n",
      "(2, 3)\n",
      "[[[1 1 3]\n",
      "  [4 1 6]\n",
      "  [7 8 1]]]\n",
      "3\n",
      "(1, 3, 3)\n"
     ]
    }
   ],
   "source": [
    "#Create a 2x2, 3x3, and 4x4 identity matrix using numpy(identity matrix is square matrix row=coloumn, principla diagonalvalues should be 1)\n",
    "#mannualy creating\n",
    "arr2= np. array([[1,1,3],[4,1,6]])\n",
    "print(arr2)\n",
    "print(arr2.ndim)\n",
    "print(arr2.shape)\n",
    "\n",
    "arr3= np. array([[[1,1,3],[4,1,6],[7,8,1]]])\n",
    "print(arr3)\n",
    "print(arr3.ndim)  \n",
    "print(arr3.shape)"
   ]
  },
  {
   "cell_type": "code",
   "execution_count": 25,
   "id": "47695e39",
   "metadata": {},
   "outputs": [
    {
     "name": "stdout",
     "output_type": "stream",
     "text": [
      "[[1 0]\n",
      " [0 1]]\n",
      "[[1 0 0]\n",
      " [0 1 0]\n",
      " [0 0 1]]\n",
      "[[1 0 0 0]\n",
      " [0 1 0 0]\n",
      " [0 0 1 0]\n",
      " [0 0 0 1]]\n"
     ]
    }
   ],
   "source": [
    "#Create a 2x2, 3x3, and 4x4 identity matrix using numpy(identity matrix is square matrix row=coloumn, principla diagonalvalues should be 1)\n",
    "# using numpy funcion\n",
    "\n",
    "id2 = np.identity(2, dtype=int)\n",
    "print(id2)\n",
    "\n",
    "id3 = np.identity(3, dtype=int)\n",
    "print(id3)\n",
    "\n",
    "id4 = np.identity(4, dtype=int)\n",
    "print(id4)\n"
   ]
  },
  {
   "cell_type": "code",
   "execution_count": 32,
   "id": "3e4c4f18",
   "metadata": {
    "scrolled": true
   },
   "outputs": [
    {
     "name": "stdout",
     "output_type": "stream",
     "text": [
      "[[0 0 0 0 0]\n",
      " [0 0 0 0 0]]\n"
     ]
    }
   ],
   "source": [
    "#Create a numpy array with shape 2x5 that has all the elements as zero.\n",
    "zero = np.zeros([2,5], dtype=int)\n",
    "print(zero)"
   ]
  },
  {
   "cell_type": "code",
   "execution_count": 33,
   "id": "f02d184d",
   "metadata": {},
   "outputs": [
    {
     "name": "stdout",
     "output_type": "stream",
     "text": [
      "[[5 5 5 5 5]\n",
      " [5 5 5 5 5]\n",
      " [5 5 5 5 5]]\n"
     ]
    }
   ],
   "source": [
    "#Create a numpy array that has the shape 3x5 and all the elements are 5.\n",
    "f= np.full([3,5],5)\n",
    "print(f)"
   ]
  },
  {
   "cell_type": "code",
   "execution_count": 37,
   "id": "dfc73a8f",
   "metadata": {},
   "outputs": [
    {
     "name": "stdout",
     "output_type": "stream",
     "text": [
      "[74 51 44 28 83 77 65 31 42 94 23 51 39 96 96 65 47 97 66 15 12 27 13 43\n",
      " 94]\n"
     ]
    }
   ],
   "source": [
    "#Create a numpy array with random integers in the range 0-100, and the sample size\n",
    "#should be 25.\n",
    "x = np.random.randint(0,100,25)\n",
    "print(x)\n"
   ]
  },
  {
   "cell_type": "code",
   "execution_count": 40,
   "id": "707efe37",
   "metadata": {},
   "outputs": [
    {
     "name": "stdout",
     "output_type": "stream",
     "text": [
      "[[1 1 1]\n",
      " [1 1 1]\n",
      " [1 1 1]]\n"
     ]
    }
   ],
   "source": [
    "#Create a numpy array with a shape 3x3 that has all elements as 1.\n",
    "one = np.ones([3,3], dtype=int)\n",
    "print(one)\n"
   ]
  },
  {
   "cell_type": "code",
   "execution_count": 44,
   "id": "3b486139",
   "metadata": {},
   "outputs": [
    {
     "name": "stdout",
     "output_type": "stream",
     "text": [
      "[[76 88 20]\n",
      " [68 52 42]]\n"
     ]
    },
    {
     "data": {
      "text/plain": [
       "array([[76, 88],\n",
       "       [20, 68],\n",
       "       [52, 42]])"
      ]
     },
     "execution_count": 44,
     "metadata": {},
     "output_type": "execute_result"
    }
   ],
   "source": [
    "#Create a numpy array in the shape 2x3 with random integers in the range 0-100.\n",
    "#Reshape the array in the shape 3x2 and print the updated shape of the resultant array\n",
    "arr= np.random.randint(0,100,(2,3))\n",
    "print(arr)\n",
    "arr.reshape(3,2)\n"
   ]
  },
  {
   "cell_type": "code",
   "execution_count": 52,
   "id": "b3bc824f",
   "metadata": {},
   "outputs": [
    {
     "name": "stdout",
     "output_type": "stream",
     "text": [
      "[520 289 569 402 626 549 684 405 762 724 756 219  83 974 795 446 789  94\n",
      "  28 254 409 429 450 968 890 726 506 310 902  63 288 626  30 121 214 478\n",
      " 709 503 789 761 579 384 561 693 295 273 673 676  78  96]\n"
     ]
    },
    {
     "data": {
      "text/plain": [
       "array([579, 384, 561, 693, 295, 273, 673, 676,  78,  96])"
      ]
     },
     "execution_count": 52,
     "metadata": {},
     "output_type": "execute_result"
    }
   ],
   "source": [
    "#Create a random array, with the range 0-1000, with a size 50 and step 2. Perform the\n",
    "#following operations on the same.\n",
    "# Print the first ten elements of the array.\n",
    "#Print the last ten elements of the array\n",
    "#Print the elements from the indexes 10-25\n",
    "#Print the element at the index 22\n",
    "#Print the array using negative indexing.\n",
    "#Print the last ten elements of the array, using negative indexing.\n",
    "\n",
    "x = np.random.randint(0,1000,50)\n",
    "print(x)\n",
    "# Print the first ten elements of the array.(slicing)\n",
    "x[0:10]\n",
    "#Print the last ten elements of the array\n",
    "x[40:49]\n",
    "#Print the elements from the indexes 10-25\n",
    "x[10:26]\n",
    "#Print the element at the index 22\n",
    "x[22]\n",
    "#Print the array using negative indexing.\n",
    "x[::-1]\n",
    "#Print the last ten elements of the array, using negative indexing.\n",
    "x[-10:]"
   ]
  },
  {
   "cell_type": "code",
   "execution_count": 67,
   "id": "c058c907",
   "metadata": {},
   "outputs": [
    {
     "name": "stdout",
     "output_type": "stream",
     "text": [
      "[1 2 3 4 5]\n",
      "[1 2 3 4 5 6]\n",
      "[10  1  2  3  4  5  6]\n",
      "[10  1  2  3 30  4  5  6]\n",
      "[10  1  2  3 30  4 50  6]\n",
      "[10  1  2  3 30  4  6]\n",
      "element is not found\n"
     ]
    },
    {
     "data": {
      "text/plain": [
       "array([ 1,  2,  3,  4,  6, 10, 30])"
      ]
     },
     "execution_count": 67,
     "metadata": {},
     "output_type": "execute_result"
    }
   ],
   "source": [
    "#Given a numpy array that has values = [1,2,3,4,5]. Perform the following operations.\n",
    "#a. Insert the element 6 at the end of the array.\n",
    "#b. Insert the element 10 at the beginning of the array.\n",
    "#c. Insert the element 30, before 4.\n",
    "#d. Update the element 5 as 50.\n",
    "#e. Delete the element 50 in the updated array.\n",
    "#f. Create a function to search for the element 30.\n",
    "#g. Sort the array in ascending order\n",
    "\n",
    "a= np.array([1,2,3,4,5])\n",
    "print(a)\n",
    "\n",
    "#a. Insert the element 6 at the end of the array.\n",
    "a=np.append(a,6)\n",
    "print(a)\n",
    "\n",
    "#b. Insert the element 10 at the beginning of the array.\n",
    "a= np.insert(a,0,10)#0 is the index of first element\n",
    "print(a)\n",
    "\n",
    "#c. Insert the element 30, before 4.\n",
    "a= np.insert(a,4,30)\n",
    "print(a)\n",
    "\n",
    "#d. Update the element 5 as 50.\n",
    "a[6]= 50\n",
    "print(a)\n",
    "\n",
    "#e. Delete the element 50 in the updated array.\n",
    "a= np.delete(a,6)\n",
    "print(a)\n",
    "\n",
    "#f. Create a function to search for the element 30.\n",
    "def search(arr,key):\n",
    "    if key in arr:\n",
    "        print(\"element is found\")\n",
    "    else:\n",
    "        print(\"element is not found\")\n",
    "    \n",
    "search(arr,30)\n",
    "\n",
    "#g. Sort the array in ascending order\n",
    "\n",
    "a.sort() #by default it will sort into ascending anf for decending we dont have function so we sort in asc and then reverse the array \n",
    "a\n"
   ]
  },
  {
   "cell_type": "code",
   "execution_count": null,
   "id": "384e41b2",
   "metadata": {},
   "outputs": [],
   "source": []
  },
  {
   "cell_type": "code",
   "execution_count": null,
   "id": "6b95cf32",
   "metadata": {},
   "outputs": [],
   "source": []
  }
 ],
 "metadata": {
  "kernelspec": {
   "display_name": "Python 3 (ipykernel)",
   "language": "python",
   "name": "python3"
  },
  "language_info": {
   "codemirror_mode": {
    "name": "ipython",
    "version": 3
   },
   "file_extension": ".py",
   "mimetype": "text/x-python",
   "name": "python",
   "nbconvert_exporter": "python",
   "pygments_lexer": "ipython3",
   "version": "3.10.9"
  }
 },
 "nbformat": 4,
 "nbformat_minor": 5
}
